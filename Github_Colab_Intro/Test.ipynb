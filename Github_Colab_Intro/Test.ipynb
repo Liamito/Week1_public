{
  "nbformat": 4,
  "nbformat_minor": 0,
  "metadata": {
    "colab": {
      "name": "Test.ipynb",
      "version": "0.3.2",
      "provenance": []
    },
    "kernelspec": {
      "display_name": "Python 3",
      "language": "python",
      "name": "python3"
    }
  },
  "cells": [
    {
      "metadata": {
        "id": "xhx7LpIQVXh9",
        "colab_type": "code",
        "colab": {
          "base_uri": "https://localhost:8080/",
          "height": 34
        },
        "outputId": "43b04f0b-991f-4238-f6ff-33263ba3af76"
      },
      "cell_type": "code",
      "source": [
        "print(\"bloop\")"
      ],
      "execution_count": 1,
      "outputs": [
        {
          "output_type": "stream",
          "text": [
            "bloop\n"
          ],
          "name": "stdout"
        }
      ]
    }
  ]
}